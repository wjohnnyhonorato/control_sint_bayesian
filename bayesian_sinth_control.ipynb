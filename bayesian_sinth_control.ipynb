{
 "cells": [
  {
   "cell_type": "markdown",
   "metadata": {},
   "source": [
    "# Imports"
   ]
  },
  {
   "cell_type": "code",
   "execution_count": 11,
   "metadata": {},
   "outputs": [],
   "source": [
    "import pymc as pm\n",
    "import numpy as np\n",
    "import pandas as pd\n",
    "import causalpy as cp\n",
    "import arviz as az\n",
    "from sklearn.linear_model import Ridge\n",
    "from sklearn.metrics import mean_squared_error, r2_score"
   ]
  },
  {
   "cell_type": "markdown",
   "metadata": {},
   "source": [
    "# seleção de doadoras com inferencia bayesiana"
   ]
  },
  {
   "cell_type": "code",
   "execution_count": null,
   "metadata": {},
   "outputs": [
    {
     "name": "stderr",
     "output_type": "stream",
     "text": [
      "Initializing NUTS using jitter+adapt_diag...\n",
      "Multiprocess sampling (4 chains in 4 jobs)\n",
      "NUTS: [weights, sigma]\n"
     ]
    },
    {
     "data": {
      "text/html": [
       "<pre style=\"white-space:pre;overflow-x:auto;line-height:normal;font-family:Menlo,'DejaVu Sans Mono',consolas,'Courier New',monospace\">c:\\Users\\willi\\codigos\\pymc_venv\\Lib\\site-packages\\rich\\live.py:231: UserWarning: install \"ipywidgets\" for Jupyter \n",
       "support\n",
       "  warnings.warn('install \"ipywidgets\" for Jupyter support')\n",
       "</pre>\n"
      ],
      "text/plain": [
       "c:\\Users\\willi\\codigos\\pymc_venv\\Lib\\site-packages\\rich\\live.py:231: UserWarning: install \"ipywidgets\" for Jupyter \n",
       "support\n",
       "  warnings.warn('install \"ipywidgets\" for Jupyter support')\n"
      ]
     },
     "metadata": {},
     "output_type": "display_data"
    },
    {
     "data": {
      "text/html": [
       "<pre style=\"white-space:pre;overflow-x:auto;line-height:normal;font-family:Menlo,'DejaVu Sans Mono',consolas,'Courier New',monospace\"></pre>\n"
      ],
      "text/plain": []
     },
     "metadata": {},
     "output_type": "display_data"
    },
    {
     "name": "stderr",
     "output_type": "stream",
     "text": [
      "Sampling 4 chains for 1_000 tune and 295 draw iterations (4_000 + 1_180 draws total) took 3922 seconds.\n",
      "Chain 0 reached the maximum tree depth. Increase `max_treedepth`, increase `target_accept` or reparameterize.\n",
      "Chain 1 reached the maximum tree depth. Increase `max_treedepth`, increase `target_accept` or reparameterize.\n",
      "Chain 2 reached the maximum tree depth. Increase `max_treedepth`, increase `target_accept` or reparameterize.\n",
      "Chain 3 reached the maximum tree depth. Increase `max_treedepth`, increase `target_accept` or reparameterize.\n",
      "The rhat statistic is larger than 1.01 for some parameters. This indicates problems during sampling. See https://arxiv.org/abs/1903.08008 for details\n",
      "The effective sample size per chain is smaller than 100 for some parameters.  A higher number is needed for reliable rhat and ess computation. See https://arxiv.org/abs/1903.08008 for details\n"
     ]
    }
   ],
   "source": [
    "# # bloco muito pesado, não executar\n",
    "\n",
    "# # Criando um modelo bayesiano para seleção de séries doadoras\n",
    "# with pm.Model() as model:\n",
    "#     # Priori para os pesos: assume que todos os pesos começam uniformemente distribuídos\n",
    "#     # Dirichlet assegura que os pesos são positivos e somam 1\n",
    "#     weights = pm.Dirichlet(\"weights\", a=np.ones(donors.shape[1]))\n",
    "    \n",
    "#     # Combinação linear dos valores das séries doadoras usando os pesos\n",
    "#     # Calcula o valor esperado da série tratada como uma soma ponderada das doadoras\n",
    "#     expected = pm.math.dot(donors, weights)\n",
    "    \n",
    "#     # Priori para o desvio padrão do termo de erro (positiva e centrada em valores pequenos)\n",
    "#     sigma = pm.HalfNormal(\"sigma\", sigma=1)\n",
    "    \n",
    "#     # Verossimilhança: modela a série tratada como uma distribuição normal com média 'expected' e desvio padrão 'sigma'\n",
    "#     y_obs = pm.Normal(\"y_obs\", mu=expected, sigma=sigma, observed=treated)\n",
    "    \n",
    "#     # Amostragem: realiza a inferência bayesiana usando MCMC\n",
    "#     # Gera 1000 amostras da distribuição posterior para os parâmetros\n",
    "#     trace = pm.sample(1000, return_inferencedata=True, random_seed=42)\n",
    "\n",
    "# # Analisar os pesos das séries doadoras\n",
    "# # Calcula a média posterior dos pesos estimados para cada série doadora\n",
    "# weights_post = trace.posterior[\"weights\"].mean(dim=[\"chain\", \"draw\"])\n",
    "# # Converte os pesos em um DataFrame para facilitar a visualização\n",
    "# weights_df = pd.DataFrame({\"Series\": df.columns[2:], \"Weight\": weights_post.values})\n",
    "# print(\"Pesos Posteriores:\")\n",
    "# print(weights_df)  # Mostra os pesos estimados de cada série doadora\n",
    "\n",
    "# # Selecionar séries doadoras com pesos significativos\n",
    "# threshold = 0.1  # Define um limiar para considerar uma série como relevante\n",
    "# selected_series = weights_df[weights_df[\"Weight\"] > threshold][\"Series\"].tolist()  # Filtra séries com pesos > limiar\n",
    "# print(\"\\nSéries Selecionadas para Controle Sintético:\", selected_series)"
   ]
  },
  {
   "cell_type": "markdown",
   "metadata": {},
   "source": [
    "# dados simulados"
   ]
  },
  {
   "cell_type": "code",
   "execution_count": 2,
   "metadata": {},
   "outputs": [],
   "source": [
    "# Exemplo de entrada\n",
    "# O DataFrame deve conter:\n",
    "# - Uma coluna com a série tratada, identificada pelo sufixo \"_t\"\n",
    "# - Uma coluna `anomes` indicando os períodos\n",
    "# - Todas as outras colunas são potenciais séries doadoras\n",
    "\n",
    "# Criando um conjunto de dados fictício para simular o problema\n",
    "data = {\n",
    "    \"anomes\": [1, 2, 3, 4, 5, 6, 7, 8, 9, 10, 11, 12, 13, 14, 15, 16],  # Período de tempo\n",
    "    \"serie_t\": [10, 12, 13, 15, 17, 18, 20, 21, 23, 25, 27, 28, 30, 31, 33, 34],  # Série tratada\n",
    "    \"a\": [9, 11, 14, 16, 18, 19, 21, 23, 24, 26, 28, 29, 31, 33, 34, 36],  # Série doadora 1\n",
    "    \"b\": [15, 16, 18, 20, 22, 23, 25, 27, 28, 30, 32, 33, 35, 36, 38, 39],  # Série doadora 2\n",
    "    \"c\": [10, 12, 13, 15, 17, 18, 20, 21, 23, 24, 26, 27, 29, 30, 32, 33],  # Série doadora 3\n",
    "    \"d\": [5, 6, 7, 8, 9, 10, 11, 12, 13, 14, 15, 16, 17, 18, 19, 20],  # Série doadora 4\n",
    "    \"e\": [8, 9, 10, 11, 13, 14, 16, 18, 19, 20, 22, 23, 25, 26, 28, 29],  # Série doadora 5\n",
    "    \"f\": [12, 14, 16, 17, 19, 21, 22, 24, 25, 27, 29, 30, 32, 33, 35, 36],  # Série doadora 6\n",
    "    \"g\": [11, 12, 14, 15, 16, 18, 19, 21, 22, 24, 26, 27, 29, 30, 32, 33],  # Série doadora 7\n",
    "}\n",
    "# Converte o dicionário em um DataFrame para manipulação mais fácil\n",
    "df = pd.DataFrame(data)"
   ]
  },
  {
   "cell_type": "markdown",
   "metadata": {},
   "source": [
    "# Seleção de doadoras com ridge par a par"
   ]
  },
  {
   "cell_type": "code",
   "execution_count": 4,
   "metadata": {},
   "outputs": [
    {
     "name": "stdout",
     "output_type": "stream",
     "text": [
      "Resultados da Regressão Individual (Pré-Tratamento):\n",
      "  Doador        R2       MSE  Coeficiente\n",
      "2      c  0.999958  0.000711     0.993558\n",
      "3      d  0.995698  0.073722     1.573770\n",
      "1      b  0.991503  0.145607     0.931516\n",
      "5      f  0.987751  0.209900     0.967056\n",
      "0      a  0.984257  0.269775     0.835300\n",
      "6      g  0.981502  0.316973     1.122088\n",
      "4      e  0.980745  0.329945     1.091792\n",
      "\n",
      "Doadoras Selecionadas:\n",
      "['c', 'd']\n",
      "\n",
      "DataFrame Final para Controle Sintético:\n",
      "    anomes  serie_t   c   d\n",
      "0        1       10  10   5\n",
      "1        2       12  12   6\n",
      "2        3       13  13   7\n",
      "3        4       15  15   8\n",
      "4        5       17  17   9\n",
      "5        6       18  18  10\n",
      "6        7       20  20  11\n",
      "7        8       21  21  12\n",
      "8        9       23  23  13\n",
      "9       10       25  24  14\n",
      "10      11       27  26  15\n",
      "11      12       28  27  16\n",
      "12      13       30  29  17\n",
      "13      14       31  30  18\n",
      "14      15       33  32  19\n",
      "15      16       34  33  20\n"
     ]
    }
   ],
   "source": [
    "# Índice que marca o início do tratamento\n",
    "treatment_time = 9  # Período pré-tratamento: linhas 0 a 8\n",
    "\n",
    "# Filtrar o período pré-tratamento\n",
    "df_pre = df.iloc[:treatment_time]\n",
    "\n",
    "# Identificar colunas de tratamento e doadoras\n",
    "treated_col = [col for col in df_pre.columns if col.endswith(\"_t\")][0]\n",
    "donors_cols = [col for col in df_pre.columns if col not in [treated_col, \"anomes\"]]\n",
    "\n",
    "# Separar dados da série tratada e possíveis doadoras no período pré-tratamento\n",
    "y_pre = df_pre[treated_col].values  # Valores da série tratada no período pré-tratamento\n",
    "\n",
    "# Avaliar doadoras individualmente (usando apenas o período pré-tratamento)\n",
    "results = []\n",
    "for donor in donors_cols:\n",
    "    X_pre = df_pre[donor].values.reshape(-1, 1)  # Valores da série doadora no período pré-tratamento\n",
    "\n",
    "    # Ajustar Ridge Regression para cada doadora individualmente\n",
    "    ridge = Ridge(alpha=1.0)  # Penalização\n",
    "    ridge.fit(X_pre, y_pre)\n",
    "\n",
    "    # Predições no período pré-tratamento\n",
    "    y_pred_pre = ridge.predict(X_pre)\n",
    "\n",
    "    # Calcular métricas de ajuste\n",
    "    mse = mean_squared_error(y_pre, y_pred_pre)  # Erro Quadrático Médio\n",
    "    r2 = r2_score(y_pre, y_pred_pre)  # Coeficiente de Determinação R²\n",
    "    coef = ridge.coef_[0]  # Coeficiente da série doadora\n",
    "\n",
    "    # Salvar resultados\n",
    "    results.append({\"Doador\": donor, \"R2\": r2, \"MSE\": mse, \"Coeficiente\": coef})\n",
    "\n",
    "# Converter resultados em DataFrame\n",
    "results_df = pd.DataFrame(results)\n",
    "\n",
    "# Ordenar doadoras pelo R² ou outro critério\n",
    "results_df = results_df.sort_values(by=\"R2\", ascending=False)\n",
    "\n",
    "# Selecionar as doadoras mais relevantes\n",
    "top_n = 2  # Quantidade de doadoras a selecionar\n",
    "selected_donors = results_df.head(top_n)[\"Doador\"].tolist()\n",
    "\n",
    "# Exibir resultados\n",
    "print(\"Resultados da Regressão Individual (Pré-Tratamento):\")\n",
    "print(results_df)\n",
    "print(\"\\nDoadoras Selecionadas:\")\n",
    "print(selected_donors)\n",
    "\n",
    "# Gerar DataFrame final com as doadoras selecionadas (completo, incluindo pós-tratamento)\n",
    "df_selected = df[[\"anomes\", treated_col] + selected_donors]\n",
    "\n",
    "# Exibir DataFrame final\n",
    "print(\"\\nDataFrame Final para Controle Sintético:\")\n",
    "print(df_selected)\n",
    "\n"
   ]
  },
  {
   "cell_type": "markdown",
   "metadata": {},
   "source": [
    "# Controle sintetico bayesiano"
   ]
  },
  {
   "cell_type": "code",
   "execution_count": 8,
   "metadata": {},
   "outputs": [
    {
     "name": "stderr",
     "output_type": "stream",
     "text": [
      "Initializing NUTS using jitter+adapt_diag...\n",
      "Multiprocess sampling (4 chains in 2 jobs)\n",
      "NUTS: [beta, sigma]\n"
     ]
    },
    {
     "data": {
      "text/html": [
       "<pre style=\"white-space:pre;overflow-x:auto;line-height:normal;font-family:Menlo,'DejaVu Sans Mono',consolas,'Courier New',monospace\">c:\\Users\\willi\\codigos\\pymc_venv\\Lib\\site-packages\\rich\\live.py:231: UserWarning: install \"ipywidgets\" for Jupyter \n",
       "support\n",
       "  warnings.warn('install \"ipywidgets\" for Jupyter support')\n",
       "</pre>\n"
      ],
      "text/plain": [
       "c:\\Users\\willi\\codigos\\pymc_venv\\Lib\\site-packages\\rich\\live.py:231: UserWarning: install \"ipywidgets\" for Jupyter \n",
       "support\n",
       "  warnings.warn('install \"ipywidgets\" for Jupyter support')\n"
      ]
     },
     "metadata": {},
     "output_type": "display_data"
    },
    {
     "data": {
      "text/html": [
       "<pre style=\"white-space:pre;overflow-x:auto;line-height:normal;font-family:Menlo,'DejaVu Sans Mono',consolas,'Courier New',monospace\"></pre>\n"
      ],
      "text/plain": []
     },
     "metadata": {},
     "output_type": "display_data"
    },
    {
     "name": "stderr",
     "output_type": "stream",
     "text": [
      "Sampling 4 chains for 500 tune and 500 draw iterations (2_000 + 2_000 draws total) took 120 seconds.\n",
      "c:\\Users\\willi\\codigos\\pymc_venv\\Lib\\site-packages\\arviz\\stats\\diagnostics.py:596: RuntimeWarning: invalid value encountered in scalar divide\n",
      "  (between_chain_variance / within_chain_variance + num_samples - 1) / (num_samples)\n",
      "There were 1749 divergences after tuning. Increase `target_accept` or reparameterize.\n",
      "The rhat statistic is larger than 1.01 for some parameters. This indicates problems during sampling. See https://arxiv.org/abs/1903.08008 for details\n",
      "The effective sample size per chain is smaller than 100 for some parameters.  A higher number is needed for reliable rhat and ess computation. See https://arxiv.org/abs/1903.08008 for details\n",
      "Sampling: [beta, sigma, y_hat]\n",
      "Sampling: [y_hat]\n",
      "Sampling: [y_hat]\n",
      "Sampling: [y_hat]\n",
      "Sampling: [y_hat]\n"
     ]
    },
    {
     "data": {
      "text/plain": [
       "(<Figure size 700x800 with 3 Axes>,\n",
       " array([<Axes: title={'center': '\\n            Pre-intervention Bayesian $R^2$: 1\\n            (std = 0)\\n            '}>,\n",
       "        <Axes: title={'center': 'Causal Impact'}>,\n",
       "        <Axes: title={'center': 'Cumulative Causal Impact'}>], dtype=object))"
      ]
     },
     "execution_count": 8,
     "metadata": {},
     "output_type": "execute_result"
    },
    {
     "data": {
      "image/png": "[encoded data removed]",
      "text/plain": [
       "<Figure size 700x800 with 3 Axes>"
      ]
     },
     "metadata": {},
     "output_type": "display_data"
    }
   ],
   "source": [
    "# Fórmula do modelo para o controle sintético\n",
    "# A coluna tratada é identificada como `serie_t` e as doadoras selecionadas estão no `selected_donors`\n",
    "formula = treated_col + \" ~ 0 + \" + \" + \".join(selected_donors)\n",
    "\n",
    "# Ajustar o controle sintético bayesiano com as séries selecionadas\n",
    "result = cp.SyntheticControl(\n",
    "    df_selected, # DataFrame contendo as séries tratada e doadoras\n",
    "    treatment_time, # Índice do início do tratamento\n",
    "    formula=formula, # Fórmula que inclui a série tratada e as doadoras\n",
    "    model=cp.pymc_models.WeightedSumFitter( # Ajuste bayesiano para estimar os pesos     \n",
    "\n",
    "        sample_kwargs = {\n",
    "            \"draws\": 500,         # nº de amostras retiradas da distribuição posterior após o período de ajuste (warm-up)\n",
    "            \"tune\": 500,          # Passos de ajuste do sampler (warm-up) antes de coletar amostras. Amostras não são incluídas na distribuição posterior.\n",
    "            \"chains\": 4,           # Número de cadeias independentes de MCMC que serão executadas\n",
    "            \"cores\": 2,            # Número de núcleos de processamento para paralelizar as cadeias\n",
    "            \"random_seed\": 42,     # Semente para garantir reprodutibilidade\n",
    "            \"target_accept\": 0.8,  # Taxa de aceitação alvo para o sampler NUTS\n",
    "            \"progressbar\": True,   # Exibir barra de progresso durante a amostragem\n",
    "            \"return_inferencedata\": True, # Retorna o resultado no formato arviz.InferenceData (recomendado para vis e análise).\n",
    "            \"init\": \"auto\",        # Estratégia para inicializar valores iniciais (e.g., \"auto\", \"adapt_diag\")\n",
    "            \"discard_tuned_samples\": True, # Descartar amostras ajustadas (warm-up ou tune) no resultado final.\n",
    "            \"method\": \"NUTS\",      # Método de amostragem a ser usado (e.g., \"NUTS\", \"Metropolis\")\n",
    "                                   # \"NUTS\": Sampler de Hamiltoniano (padrão e eficiente para modelos contínuos).\n",
    "                                   # \"Metropolis\": Amostrador de Metropolis-Hastings (mais lento, mas pode ser útil para distribuições complexas).\n",
    "\n",
    "\n",
    "            \"step\": None,          # Objeto específico de passo de amostragem (substitui o padrão)\n",
    "            \"compute_convergence_checks\": True, # Realiza verificações automaticas de convergência (e.g., R-hat)\n",
    "            \"jitter_max_retries\": 10, # Tentativas para inicializar com jitter em caso de erro numérico\n",
    "        }\n",
    "\n",
    "    ),\n",
    ")\n",
    "\n",
    "\n",
    "# Visualizar os resultados do controle sintético\n",
    "result.plot()  # Plota o contrafactual estimado e o impacto do tratamento\n",
    "\n"
   ]
  },
  {
   "cell_type": "code",
   "execution_count": 9,
   "metadata": {},
   "outputs": [
    {
     "name": "stdout",
     "output_type": "stream",
     "text": [
      "==================================Pre-Post Fit==================================\n",
      "Formula: serie_t ~ 0 + c + d\n",
      "Model coefficients:\n",
      "    c      1, 94% HDI [1, 1]\n",
      "    d      3.6e-17, 94% HDI [1.5e-18, 1.1e-16]\n",
      "    sigma  1.8e-162, 94% HDI [1.6e-162, 2.4e-162]\n"
     ]
    }
   ],
   "source": [
    "result.summary()"
   ]
  },
  {
   "cell_type": "code",
   "execution_count": 12,
   "metadata": {},
   "outputs": [
    {
     "data": {
      "text/html": [
       "<div>\n",
       "<style scoped>\n",
       "    .dataframe tbody tr th:only-of-type {\n",
       "        vertical-align: middle;\n",
       "    }\n",
       "\n",
       "    .dataframe tbody tr th {\n",
       "        vertical-align: top;\n",
       "    }\n",
       "\n",
       "    .dataframe thead th {\n",
       "        text-align: right;\n",
       "    }\n",
       "</style>\n",
       "<table border=\"1\" class=\"dataframe\">\n",
       "  <thead>\n",
       "    <tr style=\"text-align: right;\">\n",
       "      <th></th>\n",
       "      <th>mean</th>\n",
       "      <th>sd</th>\n",
       "      <th>hdi_3%</th>\n",
       "      <th>hdi_97%</th>\n",
       "      <th>mcse_mean</th>\n",
       "      <th>mcse_sd</th>\n",
       "      <th>ess_bulk</th>\n",
       "      <th>ess_tail</th>\n",
       "      <th>r_hat</th>\n",
       "    </tr>\n",
       "  </thead>\n",
       "  <tbody>\n",
       "    <tr>\n",
       "      <th>x</th>\n",
       "      <td>1.0</td>\n",
       "      <td>0.0</td>\n",
       "      <td>1.0</td>\n",
       "      <td>1.0</td>\n",
       "      <td>0.0</td>\n",
       "      <td>0.0</td>\n",
       "      <td>51.0</td>\n",
       "      <td>126.0</td>\n",
       "      <td>1.07</td>\n",
       "    </tr>\n",
       "  </tbody>\n",
       "</table>\n",
       "</div>"
      ],
      "text/plain": [
       "   mean   sd  hdi_3%  hdi_97%  mcse_mean  mcse_sd  ess_bulk  ess_tail  r_hat\n",
       "x   1.0  0.0     1.0      1.0        0.0      0.0      51.0     126.0   1.07"
      ]
     },
     "execution_count": 12,
     "metadata": {},
     "output_type": "execute_result"
    }
   ],
   "source": [
    "az.summary(result.post_impact.mean(\"obs_ind\"))"
   ]
  },
  {
   "cell_type": "code",
   "execution_count": 13,
   "metadata": {},
   "outputs": [
    {
     "data": {
      "text/html": [
       "<div>\n",
       "<style scoped>\n",
       "    .dataframe tbody tr th:only-of-type {\n",
       "        vertical-align: middle;\n",
       "    }\n",
       "\n",
       "    .dataframe tbody tr th {\n",
       "        vertical-align: top;\n",
       "    }\n",
       "\n",
       "    .dataframe thead th {\n",
       "        text-align: right;\n",
       "    }\n",
       "</style>\n",
       "<table border=\"1\" class=\"dataframe\">\n",
       "  <thead>\n",
       "    <tr style=\"text-align: right;\">\n",
       "      <th></th>\n",
       "      <th>mean</th>\n",
       "      <th>sd</th>\n",
       "      <th>hdi_3%</th>\n",
       "      <th>hdi_97%</th>\n",
       "      <th>mcse_mean</th>\n",
       "      <th>mcse_sd</th>\n",
       "      <th>ess_bulk</th>\n",
       "      <th>ess_tail</th>\n",
       "      <th>r_hat</th>\n",
       "    </tr>\n",
       "  </thead>\n",
       "  <tbody>\n",
       "    <tr>\n",
       "      <th>x</th>\n",
       "      <td>7.0</td>\n",
       "      <td>0.0</td>\n",
       "      <td>7.0</td>\n",
       "      <td>7.0</td>\n",
       "      <td>0.0</td>\n",
       "      <td>0.0</td>\n",
       "      <td>51.0</td>\n",
       "      <td>126.0</td>\n",
       "      <td>1.07</td>\n",
       "    </tr>\n",
       "  </tbody>\n",
       "</table>\n",
       "</div>"
      ],
      "text/plain": [
       "   mean   sd  hdi_3%  hdi_97%  mcse_mean  mcse_sd  ess_bulk  ess_tail  r_hat\n",
       "x   7.0  0.0     7.0      7.0        0.0      0.0      51.0     126.0   1.07"
      ]
     },
     "execution_count": 13,
     "metadata": {},
     "output_type": "execute_result"
    }
   ],
   "source": [
    "# get index of the final time point\n",
    "index = result.post_impact_cumulative.obs_ind.max()\n",
    "# grab the posterior distribution of the cumulative impact at this final time point\n",
    "last_cumulative_estimate = result.post_impact_cumulative.sel({\"obs_ind\": index})\n",
    "# get summary stats\n",
    "az.summary(last_cumulative_estimate)"
   ]
  },
  {
   "cell_type": "code",
   "execution_count": null,
   "metadata": {},
   "outputs": [],
   "source": []
  }
 ],
 "metadata": {
  "kernelspec": {
   "display_name": "pymc_venv",
   "language": "python",
   "name": "python3"
  },
  "language_info": {
   "codemirror_mode": {
    "name": "ipython",
    "version": 3
   },
   "file_extension": ".py",
   "mimetype": "text/x-python",
   "name": "python",
   "nbconvert_exporter": "python",
   "pygments_lexer": "ipython3",
   "version": "3.11.9"
  }
 },
 "nbformat": 4,
 "nbformat_minor": 2
}
